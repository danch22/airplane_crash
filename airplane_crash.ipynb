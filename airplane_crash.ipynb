{
 "cells": [
  {
   "cell_type": "markdown",
   "metadata": {},
   "source": [
    "Data source:\n",
    "https://www.kaggle.com/saurograndi/airplane-crashes-since-1908\n",
    "\n",
    "This dataset includes:\n",
    "\n",
    "- All civil and commercial aviation accidents of scheduled and non-scheduled passenger airliners worldwide, which resulted in a fatality (including all U.S. Part 121 and Part 135 fatal accidents)\n",
    "- All cargo, positioning, ferry and test flight fatal accidents.\n",
    "- All military transport accidents with 10 or more fatalities.\n",
    "- All commercial and military helicopter accidents with greater than 10 fatalities.\n",
    "- All civil and military airship accidents involving fatalities.\n",
    "- Aviation accidents involving the death of famous people.\n",
    "- Aviation accidents or incidents of noteworthy interest."
   ]
  },
  {
   "cell_type": "markdown",
   "metadata": {},
   "source": [
    "Info about dataset:\n",
    "- Date - Date of the crash\n",
    "- Time - Time of the crash\n",
    "- Location - Location of the crash\n",
    "- Operator - Airline of the plane\n",
    "- Flight - Flight no. of the plane\n",
    "- Route - Route taken by plane\n",
    "- Type - Type of the plane\n",
    "- Registration - Unique alphanumeric string to identify the plane\n",
    "- cn/In - Construction or serial number / Line or fuselage number\n",
    "- Aboard - Number of people aboard\n",
    "- Fatalities - Lethal outcome\n",
    "- Ground - Total ground people killed due to crash.\n",
    "- Summary - Brief summary of the case"
   ]
  },
  {
   "cell_type": "code",
   "execution_count": 1,
   "metadata": {},
   "outputs": [],
   "source": [
    "import pandas as pd\n",
    "import seaborn as sns\n",
    "import numpy as np\n",
    "\n",
    "import matplotlib\n",
    "import matplotlib.pyplot as plt\n",
    "%matplotlib inline\n",
    "import seaborn as sns\n",
    "\n",
    "from gensim import corpora, models\n",
    "\n",
    "from collections import Counter\n",
    "\n",
    "import nltk\n",
    "from nltk import FreqDist\n",
    "from nltk.corpus import stopwords\n",
    "from nltk import bigrams\n",
    "import string\n",
    "\n",
    "from wordcloud import WordCloud\n",
    "from PIL import Image\n",
    "import urllib\n",
    "import requests"
   ]
  },
  {
   "cell_type": "code",
   "execution_count": 2,
   "metadata": {},
   "outputs": [
    {
     "data": {
      "text/html": [
       "<div>\n",
       "<style scoped>\n",
       "    .dataframe tbody tr th:only-of-type {\n",
       "        vertical-align: middle;\n",
       "    }\n",
       "\n",
       "    .dataframe tbody tr th {\n",
       "        vertical-align: top;\n",
       "    }\n",
       "\n",
       "    .dataframe thead th {\n",
       "        text-align: right;\n",
       "    }\n",
       "</style>\n",
       "<table border=\"1\" class=\"dataframe\">\n",
       "  <thead>\n",
       "    <tr style=\"text-align: right;\">\n",
       "      <th></th>\n",
       "      <th>Date</th>\n",
       "      <th>Time</th>\n",
       "      <th>Location</th>\n",
       "      <th>Operator</th>\n",
       "      <th>Flight #</th>\n",
       "      <th>Route</th>\n",
       "      <th>Type</th>\n",
       "      <th>Registration</th>\n",
       "      <th>cn/In</th>\n",
       "      <th>Aboard</th>\n",
       "      <th>Fatalities</th>\n",
       "      <th>Ground</th>\n",
       "      <th>Summary</th>\n",
       "    </tr>\n",
       "  </thead>\n",
       "  <tbody>\n",
       "    <tr>\n",
       "      <th>0</th>\n",
       "      <td>09/17/1908</td>\n",
       "      <td>17:18</td>\n",
       "      <td>Fort Myer, Virginia</td>\n",
       "      <td>Military - U.S. Army</td>\n",
       "      <td>NaN</td>\n",
       "      <td>Demonstration</td>\n",
       "      <td>Wright Flyer III</td>\n",
       "      <td>NaN</td>\n",
       "      <td>1</td>\n",
       "      <td>2.0</td>\n",
       "      <td>1.0</td>\n",
       "      <td>0.0</td>\n",
       "      <td>During a demonstration flight, a U.S. Army fly...</td>\n",
       "    </tr>\n",
       "    <tr>\n",
       "      <th>1</th>\n",
       "      <td>07/12/1912</td>\n",
       "      <td>06:30</td>\n",
       "      <td>AtlantiCity, New Jersey</td>\n",
       "      <td>Military - U.S. Navy</td>\n",
       "      <td>NaN</td>\n",
       "      <td>Test flight</td>\n",
       "      <td>Dirigible</td>\n",
       "      <td>NaN</td>\n",
       "      <td>NaN</td>\n",
       "      <td>5.0</td>\n",
       "      <td>5.0</td>\n",
       "      <td>0.0</td>\n",
       "      <td>First U.S. dirigible Akron exploded just offsh...</td>\n",
       "    </tr>\n",
       "    <tr>\n",
       "      <th>2</th>\n",
       "      <td>08/06/1913</td>\n",
       "      <td>NaN</td>\n",
       "      <td>Victoria, British Columbia, Canada</td>\n",
       "      <td>Private</td>\n",
       "      <td>-</td>\n",
       "      <td>NaN</td>\n",
       "      <td>Curtiss seaplane</td>\n",
       "      <td>NaN</td>\n",
       "      <td>NaN</td>\n",
       "      <td>1.0</td>\n",
       "      <td>1.0</td>\n",
       "      <td>0.0</td>\n",
       "      <td>The first fatal airplane accident in Canada oc...</td>\n",
       "    </tr>\n",
       "  </tbody>\n",
       "</table>\n",
       "</div>"
      ],
      "text/plain": [
       "         Date   Time                            Location  \\\n",
       "0  09/17/1908  17:18                 Fort Myer, Virginia   \n",
       "1  07/12/1912  06:30             AtlantiCity, New Jersey   \n",
       "2  08/06/1913    NaN  Victoria, British Columbia, Canada   \n",
       "\n",
       "               Operator Flight #          Route              Type  \\\n",
       "0  Military - U.S. Army      NaN  Demonstration  Wright Flyer III   \n",
       "1  Military - U.S. Navy      NaN    Test flight         Dirigible   \n",
       "2               Private        -            NaN  Curtiss seaplane   \n",
       "\n",
       "  Registration cn/In  Aboard  Fatalities  Ground  \\\n",
       "0          NaN     1     2.0         1.0     0.0   \n",
       "1          NaN   NaN     5.0         5.0     0.0   \n",
       "2          NaN   NaN     1.0         1.0     0.0   \n",
       "\n",
       "                                             Summary  \n",
       "0  During a demonstration flight, a U.S. Army fly...  \n",
       "1  First U.S. dirigible Akron exploded just offsh...  \n",
       "2  The first fatal airplane accident in Canada oc...  "
      ]
     },
     "execution_count": 2,
     "metadata": {},
     "output_type": "execute_result"
    }
   ],
   "source": [
    "data = pd.read_csv('Airplane_Crashes_and_Fatalities_Since_1908.csv')\n",
    "data.head(3)"
   ]
  },
  {
   "cell_type": "code",
   "execution_count": 3,
   "metadata": {},
   "outputs": [
    {
     "name": "stdout",
     "output_type": "stream",
     "text": [
      "<class 'pandas.core.frame.DataFrame'>\n",
      "RangeIndex: 5268 entries, 0 to 5267\n",
      "Data columns (total 13 columns):\n",
      " #   Column        Non-Null Count  Dtype  \n",
      "---  ------        --------------  -----  \n",
      " 0   Date          5268 non-null   object \n",
      " 1   Time          3049 non-null   object \n",
      " 2   Location      5248 non-null   object \n",
      " 3   Operator      5250 non-null   object \n",
      " 4   Flight #      1069 non-null   object \n",
      " 5   Route         3562 non-null   object \n",
      " 6   Type          5241 non-null   object \n",
      " 7   Registration  4933 non-null   object \n",
      " 8   cn/In         4040 non-null   object \n",
      " 9   Aboard        5246 non-null   float64\n",
      " 10  Fatalities    5256 non-null   float64\n",
      " 11  Ground        5246 non-null   float64\n",
      " 12  Summary       4878 non-null   object \n",
      "dtypes: float64(3), object(10)\n",
      "memory usage: 535.2+ KB\n"
     ]
    }
   ],
   "source": [
    "data.info()"
   ]
  },
  {
   "cell_type": "code",
   "execution_count": 4,
   "metadata": {},
   "outputs": [
    {
     "data": {
      "text/html": [
       "<div>\n",
       "<style scoped>\n",
       "    .dataframe tbody tr th:only-of-type {\n",
       "        vertical-align: middle;\n",
       "    }\n",
       "\n",
       "    .dataframe tbody tr th {\n",
       "        vertical-align: top;\n",
       "    }\n",
       "\n",
       "    .dataframe thead th {\n",
       "        text-align: right;\n",
       "    }\n",
       "</style>\n",
       "<table border=\"1\" class=\"dataframe\">\n",
       "  <thead>\n",
       "    <tr style=\"text-align: right;\">\n",
       "      <th></th>\n",
       "      <th>Aboard</th>\n",
       "      <th>Fatalities</th>\n",
       "      <th>Ground</th>\n",
       "    </tr>\n",
       "  </thead>\n",
       "  <tbody>\n",
       "    <tr>\n",
       "      <th>count</th>\n",
       "      <td>5246.000000</td>\n",
       "      <td>5256.000000</td>\n",
       "      <td>5246.000000</td>\n",
       "    </tr>\n",
       "    <tr>\n",
       "      <th>mean</th>\n",
       "      <td>27.554518</td>\n",
       "      <td>20.068303</td>\n",
       "      <td>1.608845</td>\n",
       "    </tr>\n",
       "    <tr>\n",
       "      <th>std</th>\n",
       "      <td>43.076711</td>\n",
       "      <td>33.199952</td>\n",
       "      <td>53.987827</td>\n",
       "    </tr>\n",
       "    <tr>\n",
       "      <th>min</th>\n",
       "      <td>0.000000</td>\n",
       "      <td>0.000000</td>\n",
       "      <td>0.000000</td>\n",
       "    </tr>\n",
       "    <tr>\n",
       "      <th>25%</th>\n",
       "      <td>5.000000</td>\n",
       "      <td>3.000000</td>\n",
       "      <td>0.000000</td>\n",
       "    </tr>\n",
       "    <tr>\n",
       "      <th>50%</th>\n",
       "      <td>13.000000</td>\n",
       "      <td>9.000000</td>\n",
       "      <td>0.000000</td>\n",
       "    </tr>\n",
       "    <tr>\n",
       "      <th>75%</th>\n",
       "      <td>30.000000</td>\n",
       "      <td>23.000000</td>\n",
       "      <td>0.000000</td>\n",
       "    </tr>\n",
       "    <tr>\n",
       "      <th>max</th>\n",
       "      <td>644.000000</td>\n",
       "      <td>583.000000</td>\n",
       "      <td>2750.000000</td>\n",
       "    </tr>\n",
       "  </tbody>\n",
       "</table>\n",
       "</div>"
      ],
      "text/plain": [
       "            Aboard   Fatalities       Ground\n",
       "count  5246.000000  5256.000000  5246.000000\n",
       "mean     27.554518    20.068303     1.608845\n",
       "std      43.076711    33.199952    53.987827\n",
       "min       0.000000     0.000000     0.000000\n",
       "25%       5.000000     3.000000     0.000000\n",
       "50%      13.000000     9.000000     0.000000\n",
       "75%      30.000000    23.000000     0.000000\n",
       "max     644.000000   583.000000  2750.000000"
      ]
     },
     "execution_count": 4,
     "metadata": {},
     "output_type": "execute_result"
    }
   ],
   "source": [
    "data.describe()"
   ]
  },
  {
   "cell_type": "code",
   "execution_count": 5,
   "metadata": {},
   "outputs": [
    {
     "name": "stdout",
     "output_type": "stream",
     "text": [
      "% of Missing values in columns\n"
     ]
    },
    {
     "data": {
      "text/plain": [
       "Date             0.000000\n",
       "Time            42.122248\n",
       "Location         0.379651\n",
       "Operator         0.341686\n",
       "Flight #        79.707669\n",
       "Route           32.384207\n",
       "Type             0.512528\n",
       "Registration     6.359150\n",
       "cn/In           23.310554\n",
       "Aboard           0.417616\n",
       "Fatalities       0.227790\n",
       "Ground           0.417616\n",
       "Summary          7.403189\n",
       "dtype: float64"
      ]
     },
     "execution_count": 5,
     "metadata": {},
     "output_type": "execute_result"
    }
   ],
   "source": [
    "print('% of Missing values in columns')\n",
    "(len(data)-data.count())/(len(data))*100"
   ]
  },
  {
   "cell_type": "markdown",
   "metadata": {},
   "source": [
    "### Primary data exploration"
   ]
  },
  {
   "cell_type": "markdown",
   "metadata": {},
   "source": [
    "Highest Fatalities and Accidents by operator"
   ]
  },
  {
   "cell_type": "code",
   "execution_count": 6,
   "metadata": {},
   "outputs": [],
   "source": [
    "operator = data[['Operator', 'Fatalities']]"
   ]
  },
  {
   "cell_type": "code",
   "execution_count": 7,
   "metadata": {},
   "outputs": [
    {
     "data": {
      "text/html": [
       "<div>\n",
       "<style scoped>\n",
       "    .dataframe tbody tr th:only-of-type {\n",
       "        vertical-align: middle;\n",
       "    }\n",
       "\n",
       "    .dataframe tbody tr th {\n",
       "        vertical-align: top;\n",
       "    }\n",
       "\n",
       "    .dataframe thead tr th {\n",
       "        text-align: left;\n",
       "    }\n",
       "\n",
       "    .dataframe thead tr:last-of-type th {\n",
       "        text-align: right;\n",
       "    }\n",
       "</style>\n",
       "<table border=\"1\" class=\"dataframe\">\n",
       "  <thead>\n",
       "    <tr>\n",
       "      <th></th>\n",
       "      <th colspan=\"2\" halign=\"left\">Fatalities</th>\n",
       "    </tr>\n",
       "    <tr>\n",
       "      <th></th>\n",
       "      <th>sum</th>\n",
       "      <th>count</th>\n",
       "    </tr>\n",
       "    <tr>\n",
       "      <th>Operator</th>\n",
       "      <th></th>\n",
       "      <th></th>\n",
       "    </tr>\n",
       "  </thead>\n",
       "  <tbody>\n",
       "    <tr>\n",
       "      <th>A B Aerotransport</th>\n",
       "      <td>3.0</td>\n",
       "      <td>2</td>\n",
       "    </tr>\n",
       "    <tr>\n",
       "      <th>AB Aerotransport</th>\n",
       "      <td>58.0</td>\n",
       "      <td>3</td>\n",
       "    </tr>\n",
       "    <tr>\n",
       "      <th>ACES Colombia</th>\n",
       "      <td>40.0</td>\n",
       "      <td>3</td>\n",
       "    </tr>\n",
       "    <tr>\n",
       "      <th>ADC Airlines</th>\n",
       "      <td>97.0</td>\n",
       "      <td>2</td>\n",
       "    </tr>\n",
       "    <tr>\n",
       "      <th>ADES Colombia</th>\n",
       "      <td>22.0</td>\n",
       "      <td>2</td>\n",
       "    </tr>\n",
       "    <tr>\n",
       "      <th>...</th>\n",
       "      <td>...</td>\n",
       "      <td>...</td>\n",
       "    </tr>\n",
       "    <tr>\n",
       "      <th>Zantop Air Transport</th>\n",
       "      <td>13.0</td>\n",
       "      <td>4</td>\n",
       "    </tr>\n",
       "    <tr>\n",
       "      <th>Zantop Airways</th>\n",
       "      <td>2.0</td>\n",
       "      <td>1</td>\n",
       "    </tr>\n",
       "    <tr>\n",
       "      <th>Zantop International Airlines</th>\n",
       "      <td>4.0</td>\n",
       "      <td>1</td>\n",
       "    </tr>\n",
       "    <tr>\n",
       "      <th>Zen Nippon</th>\n",
       "      <td>2.0</td>\n",
       "      <td>1</td>\n",
       "    </tr>\n",
       "    <tr>\n",
       "      <th>de Havilland Aircraft</th>\n",
       "      <td>11.0</td>\n",
       "      <td>1</td>\n",
       "    </tr>\n",
       "  </tbody>\n",
       "</table>\n",
       "<p>2476 rows × 2 columns</p>\n",
       "</div>"
      ],
      "text/plain": [
       "                              Fatalities      \n",
       "                                     sum count\n",
       "Operator                                      \n",
       "A B Aerotransport                    3.0     2\n",
       "AB Aerotransport                    58.0     3\n",
       "ACES Colombia                       40.0     3\n",
       "ADC Airlines                        97.0     2\n",
       "ADES Colombia                       22.0     2\n",
       "...                                  ...   ...\n",
       "Zantop Air Transport                13.0     4\n",
       "Zantop Airways                       2.0     1\n",
       "Zantop International Airlines        4.0     1\n",
       "Zen Nippon                           2.0     1\n",
       "de Havilland Aircraft               11.0     1\n",
       "\n",
       "[2476 rows x 2 columns]"
      ]
     },
     "execution_count": 7,
     "metadata": {},
     "output_type": "execute_result"
    }
   ],
   "source": [
    "operator.groupby('Operator').agg(['sum', 'count'])"
   ]
  },
  {
   "cell_type": "code",
   "execution_count": 8,
   "metadata": {},
   "outputs": [],
   "source": [
    "operator = operator.groupby('Operator').agg(['sum', 'count'])"
   ]
  },
  {
   "cell_type": "code",
   "execution_count": 9,
   "metadata": {},
   "outputs": [
    {
     "data": {
      "text/plain": [
       "Operator\n",
       "Aeroflot                                               179\n",
       "Military - U.S. Air Force                              176\n",
       "Air France                                              69\n",
       "Deutsche Lufthansa                                      65\n",
       "United Air Lines                                        44\n",
       "                                                      ... \n",
       "Military - U.S. Air Force / Military -  U.S. Army        1\n",
       "Military - U.S. Air Force / Military U.S. Air Force      1\n",
       "Military - U.S. Air Force/Military - U.S. Air Force      1\n",
       "L & J Company                                            1\n",
       "Military - Ejército del Aire                             0\n",
       "Name: (Fatalities, count), Length: 2476, dtype: int64"
      ]
     },
     "execution_count": 9,
     "metadata": {},
     "output_type": "execute_result"
    }
   ],
   "source": [
    "accidents = operator['Fatalities', 'count'].sort_values(ascending=False)\n",
    "accidents"
   ]
  },
  {
   "cell_type": "code",
   "execution_count": 10,
   "metadata": {},
   "outputs": [],
   "source": [
    "total_acc = accidents.sum()\n",
    "frac_acc = accidents/total_acc"
   ]
  },
  {
   "cell_type": "code",
   "execution_count": 11,
   "metadata": {},
   "outputs": [],
   "source": [
    "fatalities = operator['Fatalities', 'sum'].sort_values(ascending=False)\n",
    "total_fat = fatalities.sum()\n",
    "frac_fat = fatalities/total_fat"
   ]
  },
  {
   "cell_type": "code",
   "execution_count": 12,
   "metadata": {},
   "outputs": [
    {
     "data": {
      "image/png": "[encoded data removed]",
      "text/plain": [
       "<Figure size 864x576 with 4 Axes>"
      ]
     },
     "metadata": {
      "needs_background": "light"
     },
     "output_type": "display_data"
    }
   ],
   "source": [
    "matplotlib.rcParams['figure.figsize'] = (12.0, 8.0)\n",
    "fig_ops,((ax1, ax2), (ax3, ax4))= plt.subplots(2,2,sharex=True)\n",
    "\n",
    "\n",
    "accidents.head(10).plot(kind='bar',title='Accidents by Operator',ax=ax1,rot=90)\n",
    "frac_acc.head(10).plot(kind='bar',title='Proportion of Total Accidents',ax=ax2,rot=90)\n",
    "\n",
    "\n",
    "fatalities.head(10).plot(kind='bar',title='Fatalities by Operator',ax=ax3,rot=90)\n",
    "\n",
    "frac_fat.head(10).plot(kind='bar',title='Proportion of total Fatalities',ax=ax4,rot=90);"
   ]
  },
  {
   "cell_type": "markdown",
   "metadata": {},
   "source": [
    "### time analysis"
   ]
  },
  {
   "cell_type": "code",
   "execution_count": 13,
   "metadata": {},
   "outputs": [],
   "source": [
    "data['Date'] = pd.to_datetime(data['Date'])"
   ]
  },
  {
   "cell_type": "code",
   "execution_count": 14,
   "metadata": {},
   "outputs": [],
   "source": [
    "data['Day'] = data['Date'].apply(lambda x: x.day)\n",
    "data['Month'] = data['Date'].apply(lambda x: x.month)\n",
    "data['Year'] = data['Date'].apply(lambda x: x.year)\n",
    "data.drop('Date', axis = 1, inplace = True)"
   ]
  },
  {
   "cell_type": "code",
   "execution_count": 15,
   "metadata": {},
   "outputs": [
    {
     "data": {
      "text/html": [
       "<div>\n",
       "<style scoped>\n",
       "    .dataframe tbody tr th:only-of-type {\n",
       "        vertical-align: middle;\n",
       "    }\n",
       "\n",
       "    .dataframe tbody tr th {\n",
       "        vertical-align: top;\n",
       "    }\n",
       "\n",
       "    .dataframe thead th {\n",
       "        text-align: right;\n",
       "    }\n",
       "</style>\n",
       "<table border=\"1\" class=\"dataframe\">\n",
       "  <thead>\n",
       "    <tr style=\"text-align: right;\">\n",
       "      <th></th>\n",
       "      <th>Time</th>\n",
       "      <th>Location</th>\n",
       "      <th>Operator</th>\n",
       "      <th>Flight #</th>\n",
       "      <th>Route</th>\n",
       "      <th>Type</th>\n",
       "      <th>Registration</th>\n",
       "      <th>cn/In</th>\n",
       "      <th>Aboard</th>\n",
       "      <th>Fatalities</th>\n",
       "      <th>Ground</th>\n",
       "      <th>Summary</th>\n",
       "      <th>Day</th>\n",
       "      <th>Month</th>\n",
       "      <th>Year</th>\n",
       "    </tr>\n",
       "  </thead>\n",
       "  <tbody>\n",
       "    <tr>\n",
       "      <th>0</th>\n",
       "      <td>17:18</td>\n",
       "      <td>Fort Myer, Virginia</td>\n",
       "      <td>Military - U.S. Army</td>\n",
       "      <td>NaN</td>\n",
       "      <td>Demonstration</td>\n",
       "      <td>Wright Flyer III</td>\n",
       "      <td>NaN</td>\n",
       "      <td>1</td>\n",
       "      <td>2.0</td>\n",
       "      <td>1.0</td>\n",
       "      <td>0.0</td>\n",
       "      <td>During a demonstration flight, a U.S. Army fly...</td>\n",
       "      <td>17</td>\n",
       "      <td>9</td>\n",
       "      <td>1908</td>\n",
       "    </tr>\n",
       "    <tr>\n",
       "      <th>1</th>\n",
       "      <td>06:30</td>\n",
       "      <td>AtlantiCity, New Jersey</td>\n",
       "      <td>Military - U.S. Navy</td>\n",
       "      <td>NaN</td>\n",
       "      <td>Test flight</td>\n",
       "      <td>Dirigible</td>\n",
       "      <td>NaN</td>\n",
       "      <td>NaN</td>\n",
       "      <td>5.0</td>\n",
       "      <td>5.0</td>\n",
       "      <td>0.0</td>\n",
       "      <td>First U.S. dirigible Akron exploded just offsh...</td>\n",
       "      <td>12</td>\n",
       "      <td>7</td>\n",
       "      <td>1912</td>\n",
       "    </tr>\n",
       "    <tr>\n",
       "      <th>2</th>\n",
       "      <td>NaN</td>\n",
       "      <td>Victoria, British Columbia, Canada</td>\n",
       "      <td>Private</td>\n",
       "      <td>-</td>\n",
       "      <td>NaN</td>\n",
       "      <td>Curtiss seaplane</td>\n",
       "      <td>NaN</td>\n",
       "      <td>NaN</td>\n",
       "      <td>1.0</td>\n",
       "      <td>1.0</td>\n",
       "      <td>0.0</td>\n",
       "      <td>The first fatal airplane accident in Canada oc...</td>\n",
       "      <td>6</td>\n",
       "      <td>8</td>\n",
       "      <td>1913</td>\n",
       "    </tr>\n",
       "    <tr>\n",
       "      <th>3</th>\n",
       "      <td>18:30</td>\n",
       "      <td>Over the North Sea</td>\n",
       "      <td>Military - German Navy</td>\n",
       "      <td>NaN</td>\n",
       "      <td>NaN</td>\n",
       "      <td>Zeppelin L-1 (airship)</td>\n",
       "      <td>NaN</td>\n",
       "      <td>NaN</td>\n",
       "      <td>20.0</td>\n",
       "      <td>14.0</td>\n",
       "      <td>0.0</td>\n",
       "      <td>The airship flew into a thunderstorm and encou...</td>\n",
       "      <td>9</td>\n",
       "      <td>9</td>\n",
       "      <td>1913</td>\n",
       "    </tr>\n",
       "    <tr>\n",
       "      <th>4</th>\n",
       "      <td>10:30</td>\n",
       "      <td>Near Johannisthal, Germany</td>\n",
       "      <td>Military - German Navy</td>\n",
       "      <td>NaN</td>\n",
       "      <td>NaN</td>\n",
       "      <td>Zeppelin L-2 (airship)</td>\n",
       "      <td>NaN</td>\n",
       "      <td>NaN</td>\n",
       "      <td>30.0</td>\n",
       "      <td>30.0</td>\n",
       "      <td>0.0</td>\n",
       "      <td>Hydrogen gas which was being vented was sucked...</td>\n",
       "      <td>17</td>\n",
       "      <td>10</td>\n",
       "      <td>1913</td>\n",
       "    </tr>\n",
       "  </tbody>\n",
       "</table>\n",
       "</div>"
      ],
      "text/plain": [
       "    Time                            Location                Operator Flight #  \\\n",
       "0  17:18                 Fort Myer, Virginia    Military - U.S. Army      NaN   \n",
       "1  06:30             AtlantiCity, New Jersey    Military - U.S. Navy      NaN   \n",
       "2    NaN  Victoria, British Columbia, Canada                 Private        -   \n",
       "3  18:30                  Over the North Sea  Military - German Navy      NaN   \n",
       "4  10:30          Near Johannisthal, Germany  Military - German Navy      NaN   \n",
       "\n",
       "           Route                    Type Registration cn/In  Aboard  \\\n",
       "0  Demonstration        Wright Flyer III          NaN     1     2.0   \n",
       "1    Test flight               Dirigible          NaN   NaN     5.0   \n",
       "2            NaN        Curtiss seaplane          NaN   NaN     1.0   \n",
       "3            NaN  Zeppelin L-1 (airship)          NaN   NaN    20.0   \n",
       "4            NaN  Zeppelin L-2 (airship)          NaN   NaN    30.0   \n",
       "\n",
       "   Fatalities  Ground                                            Summary  Day  \\\n",
       "0         1.0     0.0  During a demonstration flight, a U.S. Army fly...   17   \n",
       "1         5.0     0.0  First U.S. dirigible Akron exploded just offsh...   12   \n",
       "2         1.0     0.0  The first fatal airplane accident in Canada oc...    6   \n",
       "3        14.0     0.0  The airship flew into a thunderstorm and encou...    9   \n",
       "4        30.0     0.0  Hydrogen gas which was being vented was sucked...   17   \n",
       "\n",
       "   Month  Year  \n",
       "0      9  1908  \n",
       "1      7  1912  \n",
       "2      8  1913  \n",
       "3      9  1913  \n",
       "4     10  1913  "
      ]
     },
     "execution_count": 15,
     "metadata": {},
     "output_type": "execute_result"
    }
   ],
   "source": [
    "data.head()"
   ]
  },
  {
   "cell_type": "markdown",
   "metadata": {},
   "source": [
    "Feature engineering that is connected with time"
   ]
  },
  {
   "cell_type": "code",
   "execution_count": 16,
   "metadata": {},
   "outputs": [],
   "source": [
    "#extract yearly data\n",
    "freq_year = {}\n",
    "for row in data['Year']:\n",
    "    if row in freq_year:\n",
    "        freq_year[row] +=1\n",
    "    else:\n",
    "        freq_year[row] = 1\n",
    "\n",
    "#sort dictionary by values and store keys and corresponding values\n",
    "freq_year = {k: v for k, v in sorted(freq_year.items(), key=lambda item: item[1], reverse=True)}\n",
    "years = list(freq_year.keys())\n",
    "crashes_year = list(freq_year.values())"
   ]
  },
  {
   "cell_type": "code",
   "execution_count": 17,
   "metadata": {},
   "outputs": [],
   "source": [
    "#extract daily data\n",
    "freq_day = {}\n",
    "for row in data['Day']:\n",
    "    if row in freq_day:\n",
    "        freq_day[row] +=1\n",
    "    else:\n",
    "        freq_day[row] = 1\n",
    "\n",
    "#sort dictionary by values and store keys and corresponding values\n",
    "freq_day = {k: v for k, v in sorted(freq_day.items(), key=lambda item: item[1], reverse=True)}\n",
    "days = list(freq_day.keys())\n",
    "crashes_day = list(freq_day.values())"
   ]
  },
  {
   "cell_type": "code",
   "execution_count": 18,
   "metadata": {},
   "outputs": [],
   "source": [
    "def get_season(month):\n",
    "    if month >= 3 and month <= 5:\n",
    "        return 'spring'\n",
    "    elif month >= 6 and month <= 8:\n",
    "        return 'summer'\n",
    "    elif month >= 9 and month <= 11:\n",
    "        return 'autumn'\n",
    "    else:\n",
    "        return 'winter'\n",
    "\n",
    "data['Season'] = data['Month'].apply(get_season)"
   ]
  },
  {
   "cell_type": "code",
   "execution_count": 19,
   "metadata": {},
   "outputs": [],
   "source": [
    "#extract seasonal data\n",
    "freq_season = {}\n",
    "for row in data['Season']:\n",
    "    if row in freq_season:\n",
    "        freq_season[row] +=1\n",
    "    else:\n",
    "        freq_season[row] = 1\n",
    "\n",
    "#sort dictionary by values and store keys and corresponding values\n",
    "freq_season = {k: v for k, v in sorted(freq_season.items(), key=lambda item: item[1], reverse=True)}\n",
    "season = list(freq_season.keys())\n",
    "crashes_season = list(freq_season.values())"
   ]
  },
  {
   "cell_type": "code",
   "execution_count": 20,
   "metadata": {},
   "outputs": [
    {
     "data": {
      "image/png": "[encoded data removed]",
      "text/plain": [
       "<Figure size 1008x720 with 3 Axes>"
      ]
     },
     "metadata": {
      "needs_background": "light"
     },
     "output_type": "display_data"
    }
   ],
   "source": [
    "fig = plt.figure(figsize=(14, 10))\n",
    "\n",
    "sub1 = fig.add_subplot(211)\n",
    "sns.barplot(x=years, y=crashes_year, color='g', ax=sub1)\n",
    "sub1.set(ylabel=\"Crashes\", xlabel=\"Year\", title=\"Plane crashes per year\")\n",
    "plt.setp(sub1.patches, linewidth=0)\n",
    "plt.setp(sub1.get_xticklabels(), rotation=70, fontsize=9)\n",
    "\n",
    "sub2 = fig.add_subplot(223)\n",
    "sns.barplot(x=days, y=crashes_day, color='r', ax=sub2)\n",
    "sub2.set(ylabel=\"Crashes\", xlabel=\"Day\", title=\"Plane crashes per day\")\n",
    "\n",
    "sub3 = fig.add_subplot(224)\n",
    "sns.barplot(x=season, y=crashes_season, color='b', ax=sub3)\n",
    "texts = sub3.set(ylabel=\"Crashes\", xlabel=\"Season\", title=\"Plane crashes per season\")\n",
    "\n",
    "plt.tight_layout()"
   ]
  },
  {
   "cell_type": "code",
   "execution_count": 21,
   "metadata": {},
   "outputs": [
    {
     "data": {
      "text/plain": [
       "Aeroflot                            179\n",
       "Military - U.S. Air Force           176\n",
       "Air France                           70\n",
       "Deutsche Lufthansa                   65\n",
       "United Air Lines                     44\n",
       "                                   ... \n",
       "Loma Linda University - Air Taxi      1\n",
       "Overseas National Airways             1\n",
       "Bimini Air Charter Inc.               1\n",
       "Skystream Airlines                    1\n",
       "Condor Flugdienst                     1\n",
       "Name: Operator, Length: 2476, dtype: int64"
      ]
     },
     "execution_count": 21,
     "metadata": {},
     "output_type": "execute_result"
    }
   ],
   "source": [
    "data['Operator'].value_counts()"
   ]
  },
  {
   "cell_type": "code",
   "execution_count": 22,
   "metadata": {},
   "outputs": [],
   "source": [
    "temp = data.copy()\n",
    "temp['Operator'] = temp['Operator'].apply(lambda s:s.lower() if type(s) == str else s)\n"
   ]
  },
  {
   "cell_type": "code",
   "execution_count": 23,
   "metadata": {},
   "outputs": [],
   "source": [
    "temp['isMilitary'] = temp['Operator'].str.contains('military')"
   ]
  },
  {
   "cell_type": "code",
   "execution_count": 24,
   "metadata": {},
   "outputs": [],
   "source": [
    "# temp"
   ]
  },
  {
   "cell_type": "code",
   "execution_count": 25,
   "metadata": {},
   "outputs": [
    {
     "data": {
      "text/html": [
       "<div>\n",
       "<style scoped>\n",
       "    .dataframe tbody tr th:only-of-type {\n",
       "        vertical-align: middle;\n",
       "    }\n",
       "\n",
       "    .dataframe tbody tr th {\n",
       "        vertical-align: top;\n",
       "    }\n",
       "\n",
       "    .dataframe thead th {\n",
       "        text-align: right;\n",
       "    }\n",
       "</style>\n",
       "<table border=\"1\" class=\"dataframe\">\n",
       "  <thead>\n",
       "    <tr style=\"text-align: right;\">\n",
       "      <th></th>\n",
       "      <th>isMilitary</th>\n",
       "    </tr>\n",
       "  </thead>\n",
       "  <tbody>\n",
       "    <tr>\n",
       "      <th>Passenger</th>\n",
       "      <td>4469</td>\n",
       "    </tr>\n",
       "    <tr>\n",
       "      <th>Military</th>\n",
       "      <td>781</td>\n",
       "    </tr>\n",
       "  </tbody>\n",
       "</table>\n",
       "</div>"
      ],
      "text/plain": [
       "           isMilitary\n",
       "Passenger        4469\n",
       "Military          781"
      ]
     },
     "execution_count": 25,
     "metadata": {},
     "output_type": "execute_result"
    }
   ],
   "source": [
    "temp = temp.groupby('isMilitary')[['isMilitary']].agg('count')\n",
    "temp.index = ['Passenger', 'Military']\n",
    "temp"
   ]
  },
  {
   "cell_type": "code",
   "execution_count": 26,
   "metadata": {},
   "outputs": [
    {
     "data": {
      "image/png": "[encoded data removed]",
      "text/plain": [
       "<Figure size 1080x432 with 1 Axes>"
      ]
     },
     "metadata": {},
     "output_type": "display_data"
    }
   ],
   "source": [
    "plt.figure(figsize=(15,6))\n",
    "\n",
    "\n",
    "plt.pie(temp['isMilitary'],  labels=temp['isMilitary'], startangle=90)\n",
    "plt.legend(temp.index, loc=\"best\", fontsize=10)\n",
    "plt.axis('equal')\n",
    "plt.title('Total number of accidents by Type of flight', loc='Center', fontsize=14);\n",
    "\n"
   ]
  },
  {
   "cell_type": "markdown",
   "metadata": {},
   "source": [
    "**analysis by location**"
   ]
  },
  {
   "cell_type": "code",
   "execution_count": 27,
   "metadata": {},
   "outputs": [
    {
     "data": {
      "text/plain": [
       "0                                     Fort Myer, Virginia\n",
       "1                                 AtlantiCity, New Jersey\n",
       "2                      Victoria, British Columbia, Canada\n",
       "3                                      Over the North Sea\n",
       "4                              Near Johannisthal, Germany\n",
       "                              ...                        \n",
       "5263                               Near Madiun, Indonesia\n",
       "5264                    Near Isiro, DemocratiRepubliCongo\n",
       "5265    AtlantiOcean, 570 miles northeast of Natal, Br...\n",
       "5266         Near Port Hope Simpson, Newfoundland, Canada\n",
       "5267                    State of Arunachal Pradesh, India\n",
       "Name: Location, Length: 5268, dtype: object"
      ]
     },
     "execution_count": 27,
     "metadata": {},
     "output_type": "execute_result"
    }
   ],
   "source": [
    "data['Location']"
   ]
  },
  {
   "cell_type": "code",
   "execution_count": 28,
   "metadata": {},
   "outputs": [],
   "source": [
    "freq_location = {}\n",
    "for row in data['Location']:\n",
    "    if row in freq_location:\n",
    "        freq_location[row] +=1\n",
    "    else:\n",
    "        freq_location[row] = 1"
   ]
  },
  {
   "cell_type": "code",
   "execution_count": 29,
   "metadata": {},
   "outputs": [
    {
     "data": {
      "text/plain": [
       "4304"
      ]
     },
     "execution_count": 29,
     "metadata": {},
     "output_type": "execute_result"
    }
   ],
   "source": [
    "len(freq_location)"
   ]
  },
  {
   "cell_type": "code",
   "execution_count": 30,
   "metadata": {},
   "outputs": [],
   "source": [
    "#sort dictionary by values and store keys and corresponding values\n",
    "\n",
    "freq_location = {k:v for k, v in sorted(freq_location.items(), key = lambda item: item[1], reverse=True)}\n",
    "\n"
   ]
  },
  {
   "cell_type": "code",
   "execution_count": 31,
   "metadata": {},
   "outputs": [],
   "source": [
    "items = freq_location.items()"
   ]
  },
  {
   "cell_type": "code",
   "execution_count": 32,
   "metadata": {},
   "outputs": [],
   "source": [
    "# items"
   ]
  },
  {
   "cell_type": "code",
   "execution_count": 33,
   "metadata": {},
   "outputs": [],
   "source": [
    "location, crashes_location = zip(*items)\n",
    "loc_cr = pd.DataFrame(data = items, columns=['location', 'num of accidents'])"
   ]
  },
  {
   "cell_type": "code",
   "execution_count": 34,
   "metadata": {},
   "outputs": [
    {
     "data": {
      "text/html": [
       "<div>\n",
       "<style scoped>\n",
       "    .dataframe tbody tr th:only-of-type {\n",
       "        vertical-align: middle;\n",
       "    }\n",
       "\n",
       "    .dataframe tbody tr th {\n",
       "        vertical-align: top;\n",
       "    }\n",
       "\n",
       "    .dataframe thead th {\n",
       "        text-align: right;\n",
       "    }\n",
       "</style>\n",
       "<table border=\"1\" class=\"dataframe\">\n",
       "  <thead>\n",
       "    <tr style=\"text-align: right;\">\n",
       "      <th></th>\n",
       "      <th>location</th>\n",
       "      <th>num of accidents</th>\n",
       "    </tr>\n",
       "  </thead>\n",
       "  <tbody>\n",
       "    <tr>\n",
       "      <th>0</th>\n",
       "      <td>NaN</td>\n",
       "      <td>20</td>\n",
       "    </tr>\n",
       "    <tr>\n",
       "      <th>1</th>\n",
       "      <td>Sao Paulo, Brazil</td>\n",
       "      <td>15</td>\n",
       "    </tr>\n",
       "    <tr>\n",
       "      <th>2</th>\n",
       "      <td>Moscow, Russia</td>\n",
       "      <td>15</td>\n",
       "    </tr>\n",
       "    <tr>\n",
       "      <th>3</th>\n",
       "      <td>Rio de Janeiro, Brazil</td>\n",
       "      <td>14</td>\n",
       "    </tr>\n",
       "    <tr>\n",
       "      <th>4</th>\n",
       "      <td>Bogota, Colombia</td>\n",
       "      <td>13</td>\n",
       "    </tr>\n",
       "    <tr>\n",
       "      <th>...</th>\n",
       "      <td>...</td>\n",
       "      <td>...</td>\n",
       "    </tr>\n",
       "    <tr>\n",
       "      <th>4299</th>\n",
       "      <td>Near Madiun, Indonesia</td>\n",
       "      <td>1</td>\n",
       "    </tr>\n",
       "    <tr>\n",
       "      <th>4300</th>\n",
       "      <td>Near Isiro, DemocratiRepubliCongo</td>\n",
       "      <td>1</td>\n",
       "    </tr>\n",
       "    <tr>\n",
       "      <th>4301</th>\n",
       "      <td>AtlantiOcean, 570 miles northeast of Natal, Br...</td>\n",
       "      <td>1</td>\n",
       "    </tr>\n",
       "    <tr>\n",
       "      <th>4302</th>\n",
       "      <td>Near Port Hope Simpson, Newfoundland, Canada</td>\n",
       "      <td>1</td>\n",
       "    </tr>\n",
       "    <tr>\n",
       "      <th>4303</th>\n",
       "      <td>State of Arunachal Pradesh, India</td>\n",
       "      <td>1</td>\n",
       "    </tr>\n",
       "  </tbody>\n",
       "</table>\n",
       "<p>4304 rows × 2 columns</p>\n",
       "</div>"
      ],
      "text/plain": [
       "                                               location  num of accidents\n",
       "0                                                   NaN                20\n",
       "1                                     Sao Paulo, Brazil                15\n",
       "2                                        Moscow, Russia                15\n",
       "3                                Rio de Janeiro, Brazil                14\n",
       "4                                      Bogota, Colombia                13\n",
       "...                                                 ...               ...\n",
       "4299                             Near Madiun, Indonesia                 1\n",
       "4300                  Near Isiro, DemocratiRepubliCongo                 1\n",
       "4301  AtlantiOcean, 570 miles northeast of Natal, Br...                 1\n",
       "4302       Near Port Hope Simpson, Newfoundland, Canada                 1\n",
       "4303                  State of Arunachal Pradesh, India                 1\n",
       "\n",
       "[4304 rows x 2 columns]"
      ]
     },
     "execution_count": 34,
     "metadata": {},
     "output_type": "execute_result"
    }
   ],
   "source": [
    "loc_cr"
   ]
  },
  {
   "cell_type": "code",
   "execution_count": 35,
   "metadata": {},
   "outputs": [],
   "source": [
    "loc_cr.replace(np.nan, 'unknown loc', regex=True, inplace = True)"
   ]
  },
  {
   "cell_type": "code",
   "execution_count": 36,
   "metadata": {},
   "outputs": [
    {
     "data": {
      "text/html": [
       "<div>\n",
       "<style scoped>\n",
       "    .dataframe tbody tr th:only-of-type {\n",
       "        vertical-align: middle;\n",
       "    }\n",
       "\n",
       "    .dataframe tbody tr th {\n",
       "        vertical-align: top;\n",
       "    }\n",
       "\n",
       "    .dataframe thead th {\n",
       "        text-align: right;\n",
       "    }\n",
       "</style>\n",
       "<table border=\"1\" class=\"dataframe\">\n",
       "  <thead>\n",
       "    <tr style=\"text-align: right;\">\n",
       "      <th></th>\n",
       "      <th>location</th>\n",
       "      <th>num of accidents</th>\n",
       "    </tr>\n",
       "  </thead>\n",
       "  <tbody>\n",
       "    <tr>\n",
       "      <th>0</th>\n",
       "      <td>unknown loc</td>\n",
       "      <td>20</td>\n",
       "    </tr>\n",
       "    <tr>\n",
       "      <th>1</th>\n",
       "      <td>Sao Paulo, Brazil</td>\n",
       "      <td>15</td>\n",
       "    </tr>\n",
       "    <tr>\n",
       "      <th>2</th>\n",
       "      <td>Moscow, Russia</td>\n",
       "      <td>15</td>\n",
       "    </tr>\n",
       "    <tr>\n",
       "      <th>3</th>\n",
       "      <td>Rio de Janeiro, Brazil</td>\n",
       "      <td>14</td>\n",
       "    </tr>\n",
       "    <tr>\n",
       "      <th>4</th>\n",
       "      <td>Bogota, Colombia</td>\n",
       "      <td>13</td>\n",
       "    </tr>\n",
       "    <tr>\n",
       "      <th>...</th>\n",
       "      <td>...</td>\n",
       "      <td>...</td>\n",
       "    </tr>\n",
       "    <tr>\n",
       "      <th>4299</th>\n",
       "      <td>Near Madiun, Indonesia</td>\n",
       "      <td>1</td>\n",
       "    </tr>\n",
       "    <tr>\n",
       "      <th>4300</th>\n",
       "      <td>Near Isiro, DemocratiRepubliCongo</td>\n",
       "      <td>1</td>\n",
       "    </tr>\n",
       "    <tr>\n",
       "      <th>4301</th>\n",
       "      <td>AtlantiOcean, 570 miles northeast of Natal, Br...</td>\n",
       "      <td>1</td>\n",
       "    </tr>\n",
       "    <tr>\n",
       "      <th>4302</th>\n",
       "      <td>Near Port Hope Simpson, Newfoundland, Canada</td>\n",
       "      <td>1</td>\n",
       "    </tr>\n",
       "    <tr>\n",
       "      <th>4303</th>\n",
       "      <td>State of Arunachal Pradesh, India</td>\n",
       "      <td>1</td>\n",
       "    </tr>\n",
       "  </tbody>\n",
       "</table>\n",
       "<p>4304 rows × 2 columns</p>\n",
       "</div>"
      ],
      "text/plain": [
       "                                               location  num of accidents\n",
       "0                                           unknown loc                20\n",
       "1                                     Sao Paulo, Brazil                15\n",
       "2                                        Moscow, Russia                15\n",
       "3                                Rio de Janeiro, Brazil                14\n",
       "4                                      Bogota, Colombia                13\n",
       "...                                                 ...               ...\n",
       "4299                             Near Madiun, Indonesia                 1\n",
       "4300                  Near Isiro, DemocratiRepubliCongo                 1\n",
       "4301  AtlantiOcean, 570 miles northeast of Natal, Br...                 1\n",
       "4302       Near Port Hope Simpson, Newfoundland, Canada                 1\n",
       "4303                  State of Arunachal Pradesh, India                 1\n",
       "\n",
       "[4304 rows x 2 columns]"
      ]
     },
     "execution_count": 36,
     "metadata": {},
     "output_type": "execute_result"
    }
   ],
   "source": [
    "loc_cr"
   ]
  },
  {
   "cell_type": "code",
   "execution_count": 37,
   "metadata": {},
   "outputs": [
    {
     "data": {
      "image/png": "[encoded data removed]",
      "text/plain": [
       "<Figure size 864x576 with 1 Axes>"
      ]
     },
     "metadata": {
      "needs_background": "light"
     },
     "output_type": "display_data"
    }
   ],
   "source": [
    "sns.barplot(x='location', y='num of accidents', data=loc_cr[:15])\n",
    "plt.xticks(rotation=90);"
   ]
  },
  {
   "cell_type": "markdown",
   "metadata": {},
   "source": [
    "At first glance, there are a lot of entering mistakes (AtlantiOcean), doubles (Moscow and Near Moscow)and also some unknowns. Country preprocessing would have given a different result"
   ]
  },
  {
   "cell_type": "markdown",
   "metadata": {},
   "source": [
    "Let's examine summary of the crash"
   ]
  },
  {
   "cell_type": "code",
   "execution_count": 38,
   "metadata": {},
   "outputs": [
    {
     "data": {
      "text/plain": [
       "0    During a demonstration flight, a U.S. Army fly...\n",
       "1    First U.S. dirigible Akron exploded just offsh...\n",
       "2    The first fatal airplane accident in Canada oc...\n",
       "3    The airship flew into a thunderstorm and encou...\n",
       "4    Hydrogen gas which was being vented was sucked...\n",
       "5    Crashed into trees while attempting to land af...\n",
       "6    Exploded and burned near Neuwerk Island,  when...\n",
       "7           Crashed near the Black Sea, cause unknown.\n",
       "8    Shot down by British aircraft crashing in flames.\n",
       "9    Shot down in flames by the British 39th Home D...\n",
       "Name: Summary, dtype: object"
      ]
     },
     "execution_count": 38,
     "metadata": {},
     "output_type": "execute_result"
    }
   ],
   "source": [
    "data['Summary'].head(10)"
   ]
  },
  {
   "cell_type": "code",
   "execution_count": 39,
   "metadata": {},
   "outputs": [],
   "source": [
    "stop = stopwords.words('english')\n",
    "newStopword = ['aircraft', 'pilot', 'en route', 'airport', 'plane', 'crashed']\n",
    "stop.extend(newStopword)"
   ]
  },
  {
   "cell_type": "markdown",
   "metadata": {},
   "source": [
    "drawing a simple Word Cloud of the most common 200 words (excluding updated list of stopwords)"
   ]
  },
  {
   "cell_type": "code",
   "execution_count": 40,
   "metadata": {},
   "outputs": [
    {
     "data": {
      "image/png": "[encoded data removed]",
      "text/plain": [
       "<Figure size 720x720 with 1 Axes>"
      ]
     },
     "metadata": {
      "needs_background": "light"
     },
     "output_type": "display_data"
    }
   ],
   "source": [
    "text = str(data['Summary'].tolist())\n",
    "\n",
    "im = Image.open('plane.jpg')\n",
    "im = im.rotate(90)\n",
    "mask = np.array(im)\n",
    "\n",
    "\n",
    "wc = WordCloud(background_color=\"white\", max_words=200, mask=mask,\n",
    "               stopwords=stop)\n",
    "wc.generate(text)\n",
    "\n",
    "plt.figure(figsize=(10,10))\n",
    "plt.imshow(wc, interpolation='bilinear')\n",
    "plt.axis(\"off\")\n",
    "plt.title('Most common words', loc='Center', fontsize=14);"
   ]
  },
  {
   "cell_type": "markdown",
   "metadata": {},
   "source": [
    "this is a very nice picture of the plane, if you couldn't tell :)"
   ]
  },
  {
   "cell_type": "markdown",
   "metadata": {},
   "source": [
    "lets see whats the most common combination of two words since one word doesn't give us the whole picture"
   ]
  },
  {
   "cell_type": "code",
   "execution_count": 41,
   "metadata": {},
   "outputs": [],
   "source": [
    "def remove_punct(s):\n",
    "    punct = set(string.punctuation)\n",
    "    return ''.join([i for i in s if i not in punct])\n"
   ]
  },
  {
   "cell_type": "code",
   "execution_count": 42,
   "metadata": {},
   "outputs": [],
   "source": [
    "temp = data[['Summary','Fatalities']].dropna()\n",
    "all_summary = temp['Summary'].str.lower().apply(remove_punct).str.split().values\n",
    "all_summary = [item for sublist in all_summary for item in sublist]\n",
    "\n",
    "words = [w for w in all_summary if w not in stop]"
   ]
  },
  {
   "cell_type": "code",
   "execution_count": 43,
   "metadata": {},
   "outputs": [],
   "source": [
    "bigrams = list(bigrams(words))\n",
    "fdistBigram = FreqDist(bigrams)\n",
    "\n"
   ]
  },
  {
   "cell_type": "code",
   "execution_count": 44,
   "metadata": {},
   "outputs": [
    {
     "data": {
      "image/png": "[encoded data removed]",
      "text/plain": [
       "<Figure size 864x576 with 1 Axes>"
      ]
     },
     "metadata": {
      "needs_background": "light"
     },
     "output_type": "display_data"
    }
   ],
   "source": [
    "plt.figure(figsize=(15,15))\n",
    "fdistBigram.plot(40);"
   ]
  },
  {
   "cell_type": "markdown",
   "metadata": {},
   "source": [
    "vfr = visual flight rules, if you are curious!"
   ]
  },
  {
   "cell_type": "code",
   "execution_count": null,
   "metadata": {},
   "outputs": [],
   "source": []
  }
 ],
 "metadata": {
  "kernelspec": {
   "display_name": "Python 3",
   "language": "python",
   "name": "python3"
  },
  "language_info": {
   "codemirror_mode": {
    "name": "ipython",
    "version": 3
   },
   "file_extension": ".py",
   "mimetype": "text/x-python",
   "name": "python",
   "nbconvert_exporter": "python",
   "pygments_lexer": "ipython3",
   "version": "3.8.3"
  }
 },
 "nbformat": 4,
 "nbformat_minor": 4
}
